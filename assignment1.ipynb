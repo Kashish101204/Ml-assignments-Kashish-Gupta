{
 "cells": [
  {
   "cell_type": "code",
   "execution_count": 1,
   "id": "29eb33c2-b691-4315-88e6-18a0e8f94169",
   "metadata": {},
   "outputs": [
    {
     "name": "stdout",
     "output_type": "stream",
     "text": [
      "Reversed: [5 4 6 3 2 1]\n"
     ]
    }
   ],
   "source": [
    "import numpy as np\n",
    "\n",
    "# Q1 (a) Reverse array\n",
    "arr = np.array([1, 2, 3, 6, 4, 5])\n",
    "print(\"Reversed:\", arr[::-1])\n"
   ]
  },
  {
   "cell_type": "code",
   "execution_count": 2,
   "id": "d57fe23b-1f68-42a0-8239-74edebf026d6",
   "metadata": {},
   "outputs": [
    {
     "name": "stdout",
     "output_type": "stream",
     "text": [
      "Flattened (ravel): [1 2 3 2 4 5 1 2 3]\n",
      "Flattened (flatten): [1 2 3 2 4 5 1 2 3]\n"
     ]
    }
   ],
   "source": [
    "# Q1 (b) Flatten array using two methods\n",
    "array1 = np.array([[1, 2, 3], [2, 4, 5], [1, 2, 3]])\n",
    "print(\"Flattened (ravel):\", array1.ravel())\n",
    "print(\"Flattened (flatten):\", array1.flatten())"
   ]
  },
  {
   "cell_type": "code",
   "execution_count": 3,
   "id": "0a9a60a8-a010-4543-b3ac-113f5ce48407",
   "metadata": {},
   "outputs": [
    {
     "name": "stdout",
     "output_type": "stream",
     "text": [
      "Are arrays equal: True\n"
     ]
    }
   ],
   "source": [
    "# Q1 (c) Compare arrays\n",
    "arr1 = np.array([[1, 2], [3, 4]])\n",
    "arr2 = np.array([[1, 2], [3, 4]])\n",
    "print(\"Are arrays equal:\", np.array_equal(arr1, arr2))"
   ]
  },
  {
   "cell_type": "code",
   "execution_count": 4,
   "id": "0f1694b6-14cc-417d-889b-7cdff90da3a9",
   "metadata": {},
   "outputs": [
    {
     "name": "stdout",
     "output_type": "stream",
     "text": [
      "Most frequent in x: (np.int64(1), array([0, 5, 7, 8, 9]))\n",
      "Most frequent in y: (np.int64(1), array([0, 1, 2]))\n"
     ]
    }
   ],
   "source": [
    "# Q1 (d) Most frequent value and indices\n",
    "def most_frequent(x):\n",
    "    vals, counts = np.unique(x, return_counts=True)\n",
    "    max_val = vals[np.argmax(counts)]\n",
    "    indices = np.where(x == max_val)[0]\n",
    "    return max_val, indices\n",
    "x = np.array([1,2,3,4,5,1,2,1,1,1])\n",
    "y = np.array([1,1,1,2,3,4,2,4,3,3])\n",
    "print(\"Most frequent in x:\", most_frequent(x))\n",
    "print(\"Most frequent in y:\", most_frequent(y))"
   ]
  },
  {
   "cell_type": "code",
   "execution_count": 5,
   "id": "76bed644-ba1e-46e6-9785-ec1bf29ac268",
   "metadata": {},
   "outputs": [
    {
     "name": "stdout",
     "output_type": "stream",
     "text": [
      "Sum of all: 45\n",
      "Row-wise sum: [[14]\n",
      " [16]\n",
      " [15]]\n",
      "Col-wise sum: [[20  9 16]]\n"
     ]
    }
   ],
   "source": [
    "# Q1 (e) Matrix operations\n",
    "gfg = np.matrix('[4, 1, 9; 12, 3, 1; 4, 5, 6]')\n",
    "print(\"Sum of all:\", gfg.sum())\n",
    "print(\"Row-wise sum:\", np.sum(gfg, axis=1))\n",
    "print(\"Col-wise sum:\", np.sum(gfg, axis=0))"
   ]
  },
  {
   "cell_type": "code",
   "execution_count": 6,
   "id": "b2693f70-bb39-4d52-b11d-df735cba5a58",
   "metadata": {},
   "outputs": [
    {
     "name": "stdout",
     "output_type": "stream",
     "text": [
      "Diagonal sum: 176\n",
      "Eigenvalues: [98.16835147 28.097044   49.73460452]\n",
      "Eigenvectors:\n",
      " [[ 0.4574917   0.34637121 -0.15017693]\n",
      " [ 0.28447814 -0.72784061 -0.4852124 ]\n",
      " [ 0.84248058  0.59184038  0.8614034 ]]\n",
      "Inverse:\n",
      " [[ 0.02404141 -0.00911212 -0.00444671]\n",
      " [-0.01667882  0.02966905  0.0024785 ]\n",
      " [ 0.00631287 -0.01603732  0.01217379]]\n",
      "Determinant: 137180.0000000001\n"
     ]
    }
   ],
   "source": [
    "# Q1 (f) Advanced matrix operations\n",
    "n_array = np.array([[55, 25, 15],[30, 44, 2],[11, 45, 77]])\n",
    "print(\"Diagonal sum:\", np.trace(n_array))\n",
    "print(\"Eigenvalues:\", np.linalg.eigvals(n_array))\n",
    "eigenvalues, eigenvectors = np.linalg.eig(n_array)\n",
    "print(\"Eigenvectors:\\n\", eigenvectors)\n",
    "print(\"Inverse:\\n\", np.linalg.inv(n_array))\n",
    "print(\"Determinant:\", np.linalg.det(n_array))"
   ]
  },
  {
   "cell_type": "code",
   "execution_count": 7,
   "id": "9a584180-c1cc-4de0-88dc-e0bc69ae4072",
   "metadata": {},
   "outputs": [
    {
     "name": "stdout",
     "output_type": "stream",
     "text": [
      "Product 1:\n",
      " [[16 19]\n",
      " [26 31]]\n",
      "Covariance 1:\n",
      " [[0.5 0.5]\n",
      " [0.5 0.5]]\n",
      "Product 2:\n",
      " [[16 19  5]\n",
      " [26 31  8]\n",
      " [46 55 14]]\n",
      "Covariance 2:\n",
      " [[2.33333333 2.33333333]\n",
      " [2.33333333 2.33333333]]\n"
     ]
    }
   ],
   "source": [
    "# Q1 (g) Matrix multiplication and covariance\n",
    "p1 = np.array([[1, 2], [2, 3]])\n",
    "q1 = np.array([[4, 5], [6, 7]])\n",
    "print(\"Product 1:\\n\", np.dot(p1, q1))\n",
    "print(\"Covariance 1:\\n\", np.cov(p1, rowvar=False))\n",
    "\n",
    "p2 = np.array([[1, 2], [2, 3], [4, 5]])\n",
    "q2 = np.array([[4, 5, 1], [6, 7, 2]])\n",
    "print(\"Product 2:\\n\", np.dot(p2, q2))\n",
    "print(\"Covariance 2:\\n\", np.cov(p2, rowvar=False))"
   ]
  },
  {
   "cell_type": "code",
   "execution_count": 8,
   "id": "00c805a2-fb95-48dd-8212-ddb1508bac6b",
   "metadata": {},
   "outputs": [
    {
     "name": "stdout",
     "output_type": "stream",
     "text": [
      "Inner:\n",
      " [[17 52]\n",
      " [13 62]]\n",
      "Outer:\n",
      " [[ 2 10  0 10 20  6]\n",
      " [ 3 15  0 15 30  9]\n",
      " [ 4 20  0 20 40 12]\n",
      " [ 3 15  0 15 30  9]\n",
      " [ 2 10  0 10 20  6]\n",
      " [ 9 45  0 45 90 27]]\n",
      "Cartesian:\n",
      " [[ 2  1]\n",
      " [ 2  5]\n",
      " [ 2  0]\n",
      " [ 2  5]\n",
      " [ 2 10]\n",
      " [ 2  3]\n",
      " [ 3  1]\n",
      " [ 3  5]\n",
      " [ 3  0]\n",
      " [ 3  5]\n",
      " [ 3 10]\n",
      " [ 3  3]\n",
      " [ 4  1]\n",
      " [ 4  5]\n",
      " [ 4  0]\n",
      " [ 4  5]\n",
      " [ 4 10]\n",
      " [ 4  3]\n",
      " [ 3  1]\n",
      " [ 3  5]\n",
      " [ 3  0]\n",
      " [ 3  5]\n",
      " [ 3 10]\n",
      " [ 3  3]\n",
      " [ 2  1]\n",
      " [ 2  5]\n",
      " [ 2  0]\n",
      " [ 2  5]\n",
      " [ 2 10]\n",
      " [ 2  3]\n",
      " [ 9  1]\n",
      " [ 9  5]\n",
      " [ 9  0]\n",
      " [ 9  5]\n",
      " [ 9 10]\n",
      " [ 9  3]]\n"
     ]
    }
   ],
   "source": [
    "# Q1 (h) Inner, Outer, Cartesian products\n",
    "x = np.array([[2, 3, 4], [3, 2, 9]])\n",
    "y = np.array([[1, 5, 0], [5, 10, 3]])\n",
    "print(\"Inner:\\n\", np.inner(x, y))\n",
    "print(\"Outer:\\n\", np.outer(x.flatten(), y.flatten()))\n",
    "from itertools import product\n",
    "print(\"Cartesian:\\n\", np.array(list(product(x.flatten(), y.flatten()))))"
   ]
  },
  {
   "cell_type": "code",
   "execution_count": 9,
   "id": "f5292702-76af-4e70-a7d4-4b0fd850b804",
   "metadata": {},
   "outputs": [
    {
     "name": "stdout",
     "output_type": "stream",
     "text": [
      "Absolute:\n",
      " [[1 2 3]\n",
      " [4 5 6]]\n",
      "Percentiles (flat): [-3.5 -0.5  2.5]\n",
      "Percentiles (cols): [[-2.75 -0.25 -3.75]\n",
      " [-1.5   1.5  -1.5 ]\n",
      " [-0.25  3.25  0.75]]\n",
      "Percentiles (rows): [[-0.5 -5. ]\n",
      " [ 1.  -4. ]\n",
      " [ 2.   0.5]]\n",
      "Mean (flat): -0.5\n",
      "Median (flat): -0.5\n",
      "Std Dev (flat): 3.8622100754188224\n",
      "Mean (col): [-1.5  1.5 -1.5]\n",
      "Median (row): [ 1. -4.]\n",
      "Floor: [-2. -2. -1.  0.  1.  1.  3.]\n",
      "Ceil: [-1. -1. -0.  1.  2.  2.  3.]\n",
      "Trunc: [-1. -1. -0.  0.  1.  1.  3.]\n",
      "Round: [-2. -2. -0.  0.  2.  2.  3.]\n"
     ]
    }
   ],
   "source": [
    "# Q2 (a) Math and stats\n",
    "array = np.array([[1, -2, 3],[-4, 5, -6]])\n",
    "print(\"Absolute:\\n\", np.abs(array))\n",
    "flat = array.flatten()\n",
    "print(\"Percentiles (flat):\", np.percentile(flat, [25, 50, 75]))\n",
    "print(\"Percentiles (cols):\", np.percentile(array, [25, 50, 75], axis=0))\n",
    "print(\"Percentiles (rows):\", np.percentile(array, [25, 50, 75], axis=1))\n",
    "print(\"Mean (flat):\", np.mean(flat))\n",
    "print(\"Median (flat):\", np.median(flat))\n",
    "print(\"Std Dev (flat):\", np.std(flat))\n",
    "print(\"Mean (col):\", np.mean(array, axis=0))\n",
    "print(\"Median (row):\", np.median(array, axis=1))\n",
    "\n",
    "# Q2 (b) Floor, ceil, trunc, round\n",
    "a = np.array([-1.8, -1.6, -0.5, 0.5,1.6, 1.8, 3.0])\n",
    "print(\"Floor:\", np.floor(a))\n",
    "print(\"Ceil:\", np.ceil(a))\n",
    "print(\"Trunc:\", np.trunc(a))\n",
    "print(\"Round:\", np.round(a))\n"
   ]
  },
  {
   "cell_type": "code",
   "execution_count": 10,
   "id": "45bf38c9-79ad-49bb-a092-f08255f99af6",
   "metadata": {},
   "outputs": [
    {
     "name": "stdout",
     "output_type": "stream",
     "text": [
      "Sorted: [ 10  16  16  52  54  62 453]\n",
      "Sorted indices: [0 3 4 1 5 2 6]\n",
      "4 smallest: [10 16 16 52]\n",
      "5 largest: [453  62  54  52  16]\n"
     ]
    }
   ],
   "source": [
    "# Q3 (a) Sorting\n",
    "array = np.array([10, 52, 62, 16, 16, 54, 453])\n",
    "print(\"Sorted:\", np.sort(array))\n",
    "print(\"Sorted indices:\", np.argsort(array))\n",
    "print(\"4 smallest:\", np.sort(array)[:4])\n",
    "print(\"5 largest:\", np.sort(array)[-5:][::-1])"
   ]
  },
  {
   "cell_type": "code",
   "execution_count": 11,
   "id": "cb3ad511-d324-4d47-bcbb-0e3ea1283c77",
   "metadata": {},
   "outputs": [
    {
     "name": "stdout",
     "output_type": "stream",
     "text": [
      "Integers: [1. 2. 3. 2.]\n",
      "Floats: [1.2 2.2]\n"
     ]
    }
   ],
   "source": [
    "# Q3 (b) Integer and float elements\n",
    "array = np.array([1.0, 1.2, 2.2, 2.0, 3.0, 2.0])\n",
    "ints = array[array == array.astype(int)]\n",
    "floats = array[array != array.astype(int)]\n",
    "print(\"Integers:\", ints)\n",
    "print(\"Floats:\", floats)"
   ]
  },
  {
   "cell_type": "code",
   "execution_count": 16,
   "id": "b10345a8-51ca-4883-bcd8-757b371fdd5d",
   "metadata": {},
   "outputs": [
    {
     "name": "stdout",
     "output_type": "stream",
     "text": [
      "gray_image.jpg is a Grayscale image. Saved as 'grayscale_image.txt'\n",
      "color_image.jpg is an RGB image. Saved as 'rgb_image.txt'\n",
      "\n",
      "--- Loaded from grayscale_image.txt ---\n",
      "[[ 0  0  0 ... 48 48 49]\n",
      " [ 0  0  0 ... 48 49 49]\n",
      " [ 0  0  1 ... 49 49 50]\n",
      " ...\n",
      " [48 48 49 ... 96 97 97]\n",
      " [48 49 49 ... 97 97 97]\n",
      " [49 49 50 ... 97 97 98]]\n",
      "\n",
      "--- Loaded from rgb_image.txt ---\n",
      "[[  1   1   1]\n",
      " [  1   1   1]\n",
      " [  3   1   2]\n",
      " ...\n",
      " [193 197 196]\n",
      " [196 198 197]\n",
      " [197 199 198]]\n"
     ]
    }
   ],
   "source": [
    "from PIL import Image\n",
    "import numpy as np\n",
    "\n",
    "def img_to_array(path):\n",
    "    img = Image.open(path)\n",
    "    arr = np.array(img)\n",
    "    if len(arr.shape) == 2:\n",
    "        np.savetxt(\"grayscale_image.txt\", arr, fmt='%d')\n",
    "        print(f\"{path} is a Grayscale image. Saved as 'grayscale_image.txt'\")\n",
    "    else:\n",
    "        reshaped = arr.reshape(-1, arr.shape[-1])\n",
    "        np.savetxt(\"rgb_image.txt\", reshaped, fmt='%d')\n",
    "        print(f\"{path} is an RGB image. Saved as 'rgb_image.txt'\")\n",
    "\n",
    "img_to_array(\"gray_image.jpg\")\n",
    "img_to_array(\"color_image.jpg\")\n",
    "\n",
    "print(\"\\n--- Loaded from grayscale_image.txt ---\")\n",
    "gray = np.loadtxt(\"grayscale_image.txt\", dtype=int)\n",
    "print(gray)\n",
    "\n",
    "print(\"\\n--- Loaded from rgb_image.txt ---\")\n",
    "rgb = np.loadtxt(\"rgb_image.txt\", dtype=int).reshape(-1, 3)\n",
    "print(rgb)"
   ]
  },
  {
   "cell_type": "code",
   "execution_count": null,
   "id": "08e28d0f-efd8-4099-8b66-799d2efdda65",
   "metadata": {},
   "outputs": [],
   "source": []
  }
 ],
 "metadata": {
  "kernelspec": {
   "display_name": "Python 3 (ipykernel)",
   "language": "python",
   "name": "python3"
  },
  "language_info": {
   "codemirror_mode": {
    "name": "ipython",
    "version": 3
   },
   "file_extension": ".py",
   "mimetype": "text/x-python",
   "name": "python",
   "nbconvert_exporter": "python",
   "pygments_lexer": "ipython3",
   "version": "3.12.4"
  }
 },
 "nbformat": 4,
 "nbformat_minor": 5
}
